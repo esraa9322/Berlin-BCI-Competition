{
  "nbformat": 4,
  "nbformat_minor": 0,
  "metadata": {
    "colab": {
      "provenance": [],
      "mount_file_id": "1aWCfAYaOAmpzIc74P1J3OqdHKMnlprmP",
      "authorship_tag": "ABX9TyNST5AYUW+FyLvMFwa0+/3X",
      "include_colab_link": true
    },
    "kernelspec": {
      "name": "python3",
      "display_name": "Python 3"
    },
    "language_info": {
      "name": "python"
    }
  },
  "cells": [
    {
      "cell_type": "markdown",
      "metadata": {
        "id": "view-in-github",
        "colab_type": "text"
      },
      "source": [
        "<a href=\"https://colab.research.google.com/github/esraa9322/Berlin-BCI-Competition/blob/main/Berlin_Competition.ipynb\" target=\"_parent\"><img src=\"https://colab.research.google.com/assets/colab-badge.svg\" alt=\"Open In Colab\"/></a>"
      ]
    },
    {
      "cell_type": "markdown",
      "source": [
        "# ***Imports and installation***"
      ],
      "metadata": {
        "id": "1kmNxjjlGOH-"
      }
    },
    {
      "cell_type": "code",
      "execution_count": null,
      "metadata": {
        "id": "V-RhuKJWv2sK"
      },
      "outputs": [],
      "source": [
        "%qtconsole"
      ]
    },
    {
      "cell_type": "code",
      "source": [
        "! pip install mne"
      ],
      "metadata": {
        "colab": {
          "base_uri": "https://localhost:8080/"
        },
        "id": "nrQbFGdrwN78",
        "outputId": "d52dcb6e-e812-4804-a8f4-ede76a2c2f4a"
      },
      "execution_count": null,
      "outputs": [
        {
          "output_type": "stream",
          "name": "stdout",
          "text": [
            "Looking in indexes: https://pypi.org/simple, https://us-python.pkg.dev/colab-wheels/public/simple/\n",
            "Collecting mne\n",
            "  Downloading mne-1.3.1-py3-none-any.whl (7.6 MB)\n",
            "\u001b[2K     \u001b[90m━━━━━━━━━━━━━━━━━━━━━━━━━━━━━━━━━━━━━━━━\u001b[0m \u001b[32m7.6/7.6 MB\u001b[0m \u001b[31m60.7 MB/s\u001b[0m eta \u001b[36m0:00:00\u001b[0m\n",
            "\u001b[?25hRequirement already satisfied: tqdm in /usr/local/lib/python3.8/dist-packages (from mne) (4.64.1)\n",
            "Requirement already satisfied: packaging in /usr/local/lib/python3.8/dist-packages (from mne) (23.0)\n",
            "Requirement already satisfied: scipy>=1.1.0 in /usr/local/lib/python3.8/dist-packages (from mne) (1.7.3)\n",
            "Requirement already satisfied: matplotlib in /usr/local/lib/python3.8/dist-packages (from mne) (3.5.3)\n",
            "Requirement already satisfied: pooch>=1.5 in /usr/local/lib/python3.8/dist-packages (from mne) (1.6.0)\n",
            "Requirement already satisfied: jinja2 in /usr/local/lib/python3.8/dist-packages (from mne) (2.11.3)\n",
            "Requirement already satisfied: decorator in /usr/local/lib/python3.8/dist-packages (from mne) (4.4.2)\n",
            "Requirement already satisfied: numpy>=1.15.4 in /usr/local/lib/python3.8/dist-packages (from mne) (1.22.4)\n",
            "Requirement already satisfied: requests>=2.19.0 in /usr/local/lib/python3.8/dist-packages (from pooch>=1.5->mne) (2.25.1)\n",
            "Requirement already satisfied: appdirs>=1.3.0 in /usr/local/lib/python3.8/dist-packages (from pooch>=1.5->mne) (1.4.4)\n",
            "Requirement already satisfied: MarkupSafe>=0.23 in /usr/local/lib/python3.8/dist-packages (from jinja2->mne) (2.0.1)\n",
            "Requirement already satisfied: pillow>=6.2.0 in /usr/local/lib/python3.8/dist-packages (from matplotlib->mne) (7.1.2)\n",
            "Requirement already satisfied: cycler>=0.10 in /usr/local/lib/python3.8/dist-packages (from matplotlib->mne) (0.11.0)\n",
            "Requirement already satisfied: kiwisolver>=1.0.1 in /usr/local/lib/python3.8/dist-packages (from matplotlib->mne) (1.4.4)\n",
            "Requirement already satisfied: fonttools>=4.22.0 in /usr/local/lib/python3.8/dist-packages (from matplotlib->mne) (4.38.0)\n",
            "Requirement already satisfied: pyparsing>=2.2.1 in /usr/local/lib/python3.8/dist-packages (from matplotlib->mne) (3.0.9)\n",
            "Requirement already satisfied: python-dateutil>=2.7 in /usr/local/lib/python3.8/dist-packages (from matplotlib->mne) (2.8.2)\n",
            "Requirement already satisfied: six>=1.5 in /usr/local/lib/python3.8/dist-packages (from python-dateutil>=2.7->matplotlib->mne) (1.15.0)\n",
            "Requirement already satisfied: certifi>=2017.4.17 in /usr/local/lib/python3.8/dist-packages (from requests>=2.19.0->pooch>=1.5->mne) (2022.12.7)\n",
            "Requirement already satisfied: urllib3<1.27,>=1.21.1 in /usr/local/lib/python3.8/dist-packages (from requests>=2.19.0->pooch>=1.5->mne) (1.24.3)\n",
            "Requirement already satisfied: chardet<5,>=3.0.2 in /usr/local/lib/python3.8/dist-packages (from requests>=2.19.0->pooch>=1.5->mne) (4.0.0)\n",
            "Requirement already satisfied: idna<3,>=2.5 in /usr/local/lib/python3.8/dist-packages (from requests>=2.19.0->pooch>=1.5->mne) (2.10)\n",
            "Installing collected packages: mne\n",
            "Successfully installed mne-1.3.1\n"
          ]
        }
      ]
    },
    {
      "cell_type": "code",
      "source": [
        "import scipy.io\n",
        "import pandas as pd\n",
        "import numpy as np\n",
        "import mne\n",
        "\n",
        "from sklearn.model_selection import train_test_split\n",
        "from sklearn.model_selection import cross_val_score\n",
        "from sklearn import svm\n",
        "from sklearn.neighbors import KNeighborsClassifier"
      ],
      "metadata": {
        "id": "hAfPyYT6wVjy"
      },
      "execution_count": null,
      "outputs": []
    },
    {
      "cell_type": "markdown",
      "source": [
        "# **Functions to be used**"
      ],
      "metadata": {
        "id": "r77poUu5GmbH"
      }
    },
    {
      "cell_type": "code",
      "source": [
        "def discrete_fourier_transform(x):\n",
        "    N = len(x)\n",
        "    n = np.arange(N)\n",
        "    k = n.reshape((N, 1))\n",
        "    e = np.exp(-2j * np.pi * k * n / N)\n",
        "    coeff = np.dot(e, x)\n",
        "    return coeff"
      ],
      "metadata": {
        "id": "fa3-9rqbG4IG"
      },
      "execution_count": null,
      "outputs": []
    },
    {
      "cell_type": "code",
      "source": [
        "def calculate_magnitude(coeff):\n",
        "  N= len(coeff)\n",
        "  magnitude= np.abs(coeff)/N \n",
        "  return magnitude"
      ],
      "metadata": {
        "id": "AGgN9_ezG4Sz"
      },
      "execution_count": null,
      "outputs": []
    },
    {
      "cell_type": "code",
      "source": [
        "def preprocess_Signal(person_data):\n",
        "\n",
        "  sfreq = person_data['nfo']['fs'][0][0][0][0]\n",
        "  EEGSignal   = person_data['cnt'].T\n",
        "  nchannels, nsamples = EEGSignal.shape\n",
        "  Y=person_data['mrk'][0][0][1]\n",
        "  \n",
        "  #chan_names = [s[0] for s in Signal['nfo']['clab'][0][0][0]]\n",
        "  event_onsets  = person_data['mrk'][0][0][0]\n",
        "  event_codes   = person_data['mrk'][0][0][1]\n",
        "\n",
        "  labels = np.zeros((1, nsamples), int)\n",
        "  labels[0, event_onsets] = event_codes\n",
        "\n",
        "  cl_lab = [s[0] for s in person_data['nfo']['classes'][0][0][0]]\n",
        "  cl1    = cl_lab[0]\n",
        "  cl2    = cl_lab[1]\n",
        "   \n",
        "  trials = {}\n",
        "  win = np.arange(int(0.5*sfreq), int(2.5*sfreq))\n",
        "  nsamples = len(win)\n",
        "  for cl, code in zip(cl_lab, np.unique(event_codes)):  \n",
        "    cl_onsets = event_onsets[event_codes == code]\n",
        "    trials[cl] = np.zeros((nchannels, nsamples, len(cl_onsets)))\n",
        "    \n",
        "   \n",
        "  for i, onset in enumerate(cl_onsets):\n",
        "        trials[cl][:,:,i] = EEGSignal[:, win+onset]\n",
        "\n",
        "  left_hand  = np.rollaxis(trials[cl1], 2, 0)  \n",
        "  right_hand = np.rollaxis(trials[cl2], 2, 0)\n",
        "  data = np.concatenate([left_hand, right_hand])\n",
        "  Y = np.concatenate([-np.ones(left_hand.shape[0]),np.ones(right_hand.shape[0])])\n",
        "    \n",
        "  return data,Y\n",
        "\n"
      ],
      "metadata": {
        "id": "Xa6QG-1cLpM5"
      },
      "execution_count": null,
      "outputs": []
    },
    {
      "cell_type": "markdown",
      "source": [
        "# **Person one data and model**"
      ],
      "metadata": {
        "id": "60MmKMP9GesE"
      }
    },
    {
      "cell_type": "code",
      "source": [
        "person1_data = scipy.io.loadmat('BCICIV_calib_ds1a.mat')"
      ],
      "metadata": {
        "id": "xhw4FTZsxSJJ"
      },
      "execution_count": null,
      "outputs": []
    },
    {
      "cell_type": "code",
      "source": [
        "person1 , target_val = preprocess_Signal(person1_data)"
      ],
      "metadata": {
        "id": "CZenJ__3IvQx"
      },
      "execution_count": null,
      "outputs": []
    },
    {
      "cell_type": "code",
      "source": [
        "person1.shape"
      ],
      "metadata": {
        "colab": {
          "base_uri": "https://localhost:8080/"
        },
        "id": "rHYgRCBXIXbN",
        "outputId": "822a9144-d6cd-40c9-8371-e1407e744bb6"
      },
      "execution_count": null,
      "outputs": [
        {
          "output_type": "execute_result",
          "data": {
            "text/plain": [
              "(200, 59, 200)"
            ]
          },
          "metadata": {},
          "execution_count": 9
        }
      ]
    },
    {
      "cell_type": "code",
      "source": [
        "target_val = np.asarray(target_val, dtype = 'int')\n",
        "np.random.shuffle(target_val)\n",
        "target_val"
      ],
      "metadata": {
        "colab": {
          "base_uri": "https://localhost:8080/"
        },
        "id": "x7WQZ1oNJAaJ",
        "outputId": "c6ef24df-95c0-4135-a32b-b102dffdf89a"
      },
      "execution_count": null,
      "outputs": [
        {
          "output_type": "execute_result",
          "data": {
            "text/plain": [
              "array([-1, -1,  1,  1, -1,  1,  1,  1,  1,  1, -1, -1, -1, -1,  1, -1,  1,\n",
              "        1, -1,  1, -1, -1,  1, -1, -1, -1, -1, -1,  1,  1,  1, -1, -1,  1,\n",
              "       -1,  1, -1,  1, -1,  1,  1, -1,  1,  1,  1,  1, -1,  1, -1, -1,  1,\n",
              "       -1, -1, -1,  1,  1,  1, -1,  1, -1, -1, -1, -1,  1, -1, -1,  1, -1,\n",
              "        1, -1,  1,  1, -1,  1, -1,  1, -1, -1,  1,  1, -1, -1,  1, -1, -1,\n",
              "        1, -1, -1,  1,  1, -1, -1,  1, -1,  1, -1, -1,  1, -1,  1, -1, -1,\n",
              "        1, -1, -1, -1, -1, -1, -1, -1,  1,  1,  1,  1,  1, -1,  1,  1,  1,\n",
              "        1,  1,  1, -1,  1,  1, -1, -1,  1,  1, -1, -1,  1, -1,  1,  1, -1,\n",
              "        1, -1, -1,  1, -1, -1, -1, -1, -1, -1, -1, -1,  1,  1,  1, -1,  1,\n",
              "        1, -1,  1, -1, -1,  1,  1,  1,  1,  1, -1,  1,  1, -1,  1,  1,  1,\n",
              "        1, -1, -1,  1, -1,  1,  1,  1, -1,  1, -1,  1, -1,  1, -1,  1, -1,\n",
              "        1, -1,  1,  1, -1, -1,  1,  1,  1, -1, -1,  1, -1])"
            ]
          },
          "metadata": {},
          "execution_count": 10
        }
      ]
    },
    {
      "cell_type": "code",
      "source": [
        "person1=np.average(person1,axis=1)"
      ],
      "metadata": {
        "id": "RqLLgwmiMfSL"
      },
      "execution_count": null,
      "outputs": []
    },
    {
      "cell_type": "code",
      "source": [
        "person1.shape"
      ],
      "metadata": {
        "colab": {
          "base_uri": "https://localhost:8080/"
        },
        "id": "b9jtw3nuNBM5",
        "outputId": "2fe96eb3-e72f-4197-ba56-605ece772871"
      },
      "execution_count": null,
      "outputs": [
        {
          "output_type": "execute_result",
          "data": {
            "text/plain": [
              "(200, 200)"
            ]
          },
          "metadata": {},
          "execution_count": 12
        }
      ]
    },
    {
      "cell_type": "code",
      "source": [
        "person1_coeff=discrete_fourier_transform(person1)\n",
        "person1_coeff= person1_coeff.real"
      ],
      "metadata": {
        "id": "T8Xy-aawL8uw"
      },
      "execution_count": null,
      "outputs": []
    },
    {
      "cell_type": "code",
      "source": [
        "clf = svm.SVC(kernel='linear', C=1, random_state=42)\n",
        "scoresa = cross_val_score(clf, person1_coeff, target_val, cv=5)\n",
        "scoresa"
      ],
      "metadata": {
        "colab": {
          "base_uri": "https://localhost:8080/"
        },
        "id": "fcykW1UaNX_M",
        "outputId": "1b684e5b-cc0d-4a80-da2b-24454211e4b2"
      },
      "execution_count": null,
      "outputs": [
        {
          "output_type": "execute_result",
          "data": {
            "text/plain": [
              "array([0.475, 0.425, 0.525, 0.4  , 0.45 ])"
            ]
          },
          "metadata": {},
          "execution_count": 14
        }
      ]
    },
    {
      "cell_type": "code",
      "source": [
        "classifier2 = KNeighborsClassifier(n_neighbors=3)\n",
        "scoresb = cross_val_score(classifier2, person1_coeff, target_val, cv=5)\n",
        "scoresb"
      ],
      "metadata": {
        "colab": {
          "base_uri": "https://localhost:8080/"
        },
        "id": "G1KdgAcoOZbH",
        "outputId": "e0aaccc3-82ea-44fd-e2ba-e951e9f7efa3"
      },
      "execution_count": null,
      "outputs": [
        {
          "output_type": "execute_result",
          "data": {
            "text/plain": [
              "array([0.525, 0.5  , 0.6  , 0.625, 0.475])"
            ]
          },
          "metadata": {},
          "execution_count": 15
        }
      ]
    },
    {
      "cell_type": "markdown",
      "source": [
        "# **person two data and model**"
      ],
      "metadata": {
        "id": "mnmK-n_uGLWR"
      }
    },
    {
      "cell_type": "code",
      "source": [
        "person2_data = scipy.io.loadmat('BCICIV_calib_ds1b.mat')"
      ],
      "metadata": {
        "id": "HBAAkuUYzzLq"
      },
      "execution_count": null,
      "outputs": []
    },
    {
      "cell_type": "code",
      "source": [
        "person2 , target_val2 = preprocess_Signal(person2_data)"
      ],
      "metadata": {
        "id": "8pjtp0zjPwNE"
      },
      "execution_count": null,
      "outputs": []
    },
    {
      "cell_type": "code",
      "source": [
        "target_val2 = np.asarray(target_val2, dtype = 'int')\n",
        "np.random.shuffle(target_val2)\n",
        "target_val2"
      ],
      "metadata": {
        "colab": {
          "base_uri": "https://localhost:8080/"
        },
        "id": "YvPSVckfP5NR",
        "outputId": "78f057ca-2350-45e1-d73c-1ac8e2d84fc3"
      },
      "execution_count": null,
      "outputs": [
        {
          "output_type": "execute_result",
          "data": {
            "text/plain": [
              "array([-1,  1, -1, -1,  1, -1, -1,  1,  1,  1, -1, -1, -1, -1, -1,  1, -1,\n",
              "        1, -1,  1,  1, -1,  1,  1,  1, -1, -1,  1, -1,  1, -1, -1, -1, -1,\n",
              "       -1, -1,  1,  1, -1,  1, -1, -1,  1, -1, -1,  1, -1, -1, -1, -1, -1,\n",
              "        1,  1,  1,  1, -1,  1, -1, -1, -1, -1, -1,  1, -1, -1, -1,  1,  1,\n",
              "       -1, -1, -1, -1,  1,  1,  1,  1,  1,  1, -1, -1, -1, -1,  1,  1, -1,\n",
              "       -1,  1,  1, -1, -1, -1,  1,  1,  1, -1,  1,  1,  1,  1, -1,  1,  1,\n",
              "       -1,  1, -1, -1, -1, -1, -1,  1, -1, -1, -1,  1,  1, -1,  1,  1,  1,\n",
              "        1, -1, -1, -1, -1,  1, -1, -1,  1,  1, -1,  1,  1, -1, -1,  1,  1,\n",
              "        1,  1, -1,  1,  1,  1,  1,  1,  1, -1, -1,  1,  1, -1, -1, -1, -1,\n",
              "       -1,  1, -1,  1, -1,  1, -1,  1,  1,  1,  1,  1,  1,  1, -1,  1,  1,\n",
              "       -1, -1,  1,  1,  1,  1,  1,  1,  1, -1,  1,  1,  1, -1, -1, -1, -1,\n",
              "        1, -1, -1, -1,  1, -1,  1,  1,  1,  1, -1,  1, -1])"
            ]
          },
          "metadata": {},
          "execution_count": 18
        }
      ]
    },
    {
      "cell_type": "code",
      "source": [
        "person2=np.average(person2,axis=1)"
      ],
      "metadata": {
        "id": "kQEVg8YLQBvv"
      },
      "execution_count": null,
      "outputs": []
    },
    {
      "cell_type": "code",
      "source": [
        "person2_coeff=discrete_fourier_transform(person2)\n",
        "person2_coeff= person2_coeff.real"
      ],
      "metadata": {
        "id": "xrHvG0auQJcr"
      },
      "execution_count": null,
      "outputs": []
    },
    {
      "cell_type": "code",
      "source": [
        "clf2 = svm.SVC(kernel='linear', C=1, random_state=42)\n",
        "scores2a = cross_val_score(clf2, person2_coeff, target_val2, cv=5)\n",
        "scores2a"
      ],
      "metadata": {
        "colab": {
          "base_uri": "https://localhost:8080/"
        },
        "id": "-lM0VGQEQTcN",
        "outputId": "b0627957-d5fc-418a-adc0-7dc18bd50105"
      },
      "execution_count": null,
      "outputs": [
        {
          "output_type": "execute_result",
          "data": {
            "text/plain": [
              "array([0.55 , 0.475, 0.65 , 0.45 , 0.575])"
            ]
          },
          "metadata": {},
          "execution_count": 21
        }
      ]
    },
    {
      "cell_type": "code",
      "source": [
        "classifier2 = KNeighborsClassifier(n_neighbors=3)\n",
        "scores2b = cross_val_score(classifier2, person2_coeff, target_val2, cv=5)\n",
        "scores2b"
      ],
      "metadata": {
        "colab": {
          "base_uri": "https://localhost:8080/"
        },
        "id": "yE9Bmh7cQk6f",
        "outputId": "a281e3fe-48ac-4b25-9d41-eb4a2d58793e"
      },
      "execution_count": null,
      "outputs": [
        {
          "output_type": "execute_result",
          "data": {
            "text/plain": [
              "array([0.625, 0.475, 0.625, 0.525, 0.675])"
            ]
          },
          "metadata": {},
          "execution_count": 22
        }
      ]
    },
    {
      "cell_type": "markdown",
      "source": [
        "# **Person three data and model**"
      ],
      "metadata": {
        "id": "fiI3S63WPO7u"
      }
    },
    {
      "cell_type": "code",
      "source": [
        "person3_data = scipy.io.loadmat('BCICIV_calib_ds1c.mat')\n"
      ],
      "metadata": {
        "id": "kSGgvk32PUY4"
      },
      "execution_count": null,
      "outputs": []
    },
    {
      "cell_type": "code",
      "source": [
        "person3 , target_val3 = preprocess_Signal(person3_data)"
      ],
      "metadata": {
        "id": "GrJeuL_9UY4y"
      },
      "execution_count": null,
      "outputs": []
    },
    {
      "cell_type": "code",
      "source": [
        "target_val3 = np.asarray(target_val3, dtype = 'int')\n",
        "np.random.shuffle(target_val3)\n",
        "target_val3"
      ],
      "metadata": {
        "colab": {
          "base_uri": "https://localhost:8080/"
        },
        "id": "WzMx-wtTUZDl",
        "outputId": "ed90e359-07bb-455d-bba3-68edea6842af"
      },
      "execution_count": null,
      "outputs": [
        {
          "output_type": "execute_result",
          "data": {
            "text/plain": [
              "array([-1, -1, -1, -1,  1, -1, -1,  1, -1, -1,  1, -1,  1, -1,  1, -1,  1,\n",
              "       -1,  1, -1, -1, -1, -1, -1, -1, -1, -1,  1, -1,  1,  1,  1,  1, -1,\n",
              "       -1,  1,  1,  1,  1,  1, -1,  1, -1, -1,  1,  1, -1, -1,  1, -1,  1,\n",
              "       -1,  1,  1, -1,  1, -1, -1, -1,  1, -1,  1,  1, -1,  1,  1, -1, -1,\n",
              "       -1,  1, -1, -1, -1,  1, -1,  1,  1,  1,  1, -1,  1,  1,  1,  1,  1,\n",
              "        1,  1,  1, -1,  1,  1,  1,  1,  1, -1,  1,  1,  1,  1,  1, -1,  1,\n",
              "        1, -1, -1,  1, -1,  1,  1, -1,  1, -1,  1, -1, -1, -1, -1,  1, -1,\n",
              "       -1,  1,  1,  1,  1, -1,  1,  1,  1,  1,  1, -1, -1, -1, -1, -1,  1,\n",
              "        1, -1, -1, -1, -1,  1, -1, -1,  1,  1,  1,  1, -1,  1, -1, -1, -1,\n",
              "       -1,  1,  1, -1, -1, -1,  1, -1, -1, -1,  1, -1, -1, -1,  1, -1, -1,\n",
              "        1,  1,  1,  1,  1, -1, -1, -1,  1,  1, -1, -1, -1, -1,  1,  1, -1,\n",
              "        1, -1,  1, -1,  1,  1,  1,  1, -1, -1, -1,  1, -1])"
            ]
          },
          "metadata": {},
          "execution_count": 25
        }
      ]
    },
    {
      "cell_type": "code",
      "source": [
        "person3 = np.average(person3,axis=1)"
      ],
      "metadata": {
        "id": "ssYGI8QfUw55"
      },
      "execution_count": null,
      "outputs": []
    },
    {
      "cell_type": "code",
      "source": [
        "person3_coeff=discrete_fourier_transform(person3)\n",
        "person3_coeff= person3_coeff.real"
      ],
      "metadata": {
        "id": "QJRa325-U3_G"
      },
      "execution_count": null,
      "outputs": []
    },
    {
      "cell_type": "code",
      "source": [
        "clf3 = svm.SVC(kernel='linear', C=1, random_state=42)\n",
        "scores3a = cross_val_score(clf3, person3_coeff, target_val3, cv=5)\n",
        "scores3a"
      ],
      "metadata": {
        "colab": {
          "base_uri": "https://localhost:8080/"
        },
        "id": "whtZdfF8U_j_",
        "outputId": "a4c3dc41-b3e3-4fba-ff64-06f9d4da626c"
      },
      "execution_count": null,
      "outputs": [
        {
          "output_type": "execute_result",
          "data": {
            "text/plain": [
              "array([0.325, 0.45 , 0.55 , 0.45 , 0.375])"
            ]
          },
          "metadata": {},
          "execution_count": 28
        }
      ]
    },
    {
      "cell_type": "code",
      "source": [
        "classifier3 = KNeighborsClassifier(n_neighbors=3)\n",
        "scores3b = cross_val_score(classifier3, person3_coeff, target_val3, cv=5)\n",
        "scores3b"
      ],
      "metadata": {
        "colab": {
          "base_uri": "https://localhost:8080/"
        },
        "id": "MqUZ566RVO7s",
        "outputId": "8d446233-c467-4d98-8779-b41281bdffa3"
      },
      "execution_count": null,
      "outputs": [
        {
          "output_type": "execute_result",
          "data": {
            "text/plain": [
              "array([0.325, 0.475, 0.45 , 0.45 , 0.4  ])"
            ]
          },
          "metadata": {},
          "execution_count": 29
        }
      ]
    },
    {
      "cell_type": "markdown",
      "source": [
        "# **person 4 data and model**"
      ],
      "metadata": {
        "id": "0nRFXzfPUN5k"
      }
    },
    {
      "cell_type": "code",
      "source": [
        "person4_data = scipy.io.loadmat('BCICIV_calib_ds1d.mat')"
      ],
      "metadata": {
        "id": "nCgw1cQtUSwk"
      },
      "execution_count": null,
      "outputs": []
    },
    {
      "cell_type": "code",
      "source": [
        "person4 , target_val4 = preprocess_Signal(person4_data)"
      ],
      "metadata": {
        "id": "sIEGiB4tVa4U"
      },
      "execution_count": null,
      "outputs": []
    },
    {
      "cell_type": "code",
      "source": [
        "target_val4 = np.asarray(target_val4, dtype = 'int')\n",
        "np.random.shuffle(target_val4)\n",
        "target_val4"
      ],
      "metadata": {
        "colab": {
          "base_uri": "https://localhost:8080/"
        },
        "id": "xlNJG92DV-u_",
        "outputId": "eed3bac4-fda0-47d0-d463-0c4b6b3b0cc6"
      },
      "execution_count": null,
      "outputs": [
        {
          "output_type": "execute_result",
          "data": {
            "text/plain": [
              "array([-1, -1, -1, -1, -1,  1,  1, -1, -1,  1, -1, -1, -1,  1, -1, -1,  1,\n",
              "        1,  1,  1,  1,  1,  1, -1,  1,  1, -1,  1,  1,  1,  1,  1,  1,  1,\n",
              "       -1, -1, -1,  1,  1, -1, -1, -1, -1,  1,  1,  1, -1,  1, -1,  1,  1,\n",
              "       -1,  1,  1, -1, -1,  1,  1,  1,  1, -1,  1, -1,  1, -1, -1, -1, -1,\n",
              "       -1, -1, -1,  1, -1, -1,  1, -1,  1, -1,  1,  1,  1,  1, -1,  1, -1,\n",
              "       -1, -1,  1,  1,  1,  1, -1, -1,  1,  1,  1,  1, -1, -1, -1, -1, -1,\n",
              "       -1, -1, -1, -1, -1,  1, -1,  1,  1,  1,  1,  1, -1, -1,  1,  1, -1,\n",
              "        1, -1,  1, -1, -1, -1, -1, -1,  1, -1,  1, -1,  1,  1, -1, -1, -1,\n",
              "       -1,  1,  1,  1,  1, -1,  1, -1, -1, -1,  1, -1, -1, -1, -1,  1,  1,\n",
              "        1,  1,  1,  1,  1,  1, -1, -1,  1,  1,  1,  1,  1, -1, -1, -1,  1,\n",
              "       -1,  1, -1, -1, -1, -1, -1, -1,  1, -1,  1, -1,  1, -1,  1,  1,  1,\n",
              "       -1,  1, -1,  1, -1, -1,  1,  1,  1, -1, -1,  1,  1])"
            ]
          },
          "metadata": {},
          "execution_count": 32
        }
      ]
    },
    {
      "cell_type": "code",
      "source": [
        "person4 = np.average(person4,axis=1)"
      ],
      "metadata": {
        "id": "hr54X0AnWG9W"
      },
      "execution_count": null,
      "outputs": []
    },
    {
      "cell_type": "code",
      "source": [
        "person4_coeff=discrete_fourier_transform(person4)\n",
        "person4_coeff= person4_coeff.real"
      ],
      "metadata": {
        "id": "S3gLUMiEWO3C"
      },
      "execution_count": null,
      "outputs": []
    },
    {
      "cell_type": "code",
      "source": [
        "clf4 = svm.SVC(kernel='linear', C=1, random_state=42)\n",
        "scores4a = cross_val_score(clf4, person4_coeff, target_val4, cv=5)\n",
        "scores4a"
      ],
      "metadata": {
        "colab": {
          "base_uri": "https://localhost:8080/"
        },
        "id": "29dMM0_AWeRK",
        "outputId": "dbc78691-bed7-489b-fff0-2eb23dd1f0f0"
      },
      "execution_count": null,
      "outputs": [
        {
          "output_type": "execute_result",
          "data": {
            "text/plain": [
              "array([0.45, 0.55, 0.7 , 0.55, 0.45])"
            ]
          },
          "metadata": {},
          "execution_count": 35
        }
      ]
    },
    {
      "cell_type": "code",
      "source": [
        "classifier4 = KNeighborsClassifier(n_neighbors=3)\n",
        "scores4b = cross_val_score(classifier4, person4_coeff, target_val4, cv=5)\n",
        "scores4b"
      ],
      "metadata": {
        "colab": {
          "base_uri": "https://localhost:8080/"
        },
        "id": "RqZmhUo5W8VK",
        "outputId": "561a81fa-0eba-4394-9bdf-bb9d9176b7fa"
      },
      "execution_count": null,
      "outputs": [
        {
          "output_type": "execute_result",
          "data": {
            "text/plain": [
              "array([0.475, 0.5  , 0.525, 0.65 , 0.475])"
            ]
          },
          "metadata": {},
          "execution_count": 36
        }
      ]
    },
    {
      "cell_type": "markdown",
      "source": [
        "# **person 5 data and model**"
      ],
      "metadata": {
        "id": "UTy5bSkcmeRQ"
      }
    },
    {
      "cell_type": "code",
      "source": [
        "person5_data = scipy.io.loadmat('BCICIV_calib_ds1e.mat')"
      ],
      "metadata": {
        "id": "QMKXm1kRVghP"
      },
      "execution_count": null,
      "outputs": []
    },
    {
      "cell_type": "code",
      "source": [
        "person5 , target_val5 = preprocess_Signal(person5_data)"
      ],
      "metadata": {
        "id": "-1dsSwuiXZXV"
      },
      "execution_count": null,
      "outputs": []
    },
    {
      "cell_type": "code",
      "source": [
        "target_val5 = np.asarray(target_val5, dtype = 'int')\n",
        "np.random.shuffle(target_val5)\n",
        "target_val5"
      ],
      "metadata": {
        "colab": {
          "base_uri": "https://localhost:8080/"
        },
        "id": "DsgofIeAYE-F",
        "outputId": "f1ca8e38-483d-4ba1-b0ee-2815a11255db"
      },
      "execution_count": null,
      "outputs": [
        {
          "output_type": "execute_result",
          "data": {
            "text/plain": [
              "array([-1,  1, -1, -1, -1,  1, -1,  1, -1, -1,  1, -1,  1,  1,  1, -1, -1,\n",
              "       -1, -1,  1, -1,  1, -1,  1, -1, -1,  1,  1,  1, -1,  1, -1, -1,  1,\n",
              "        1,  1, -1, -1, -1,  1, -1,  1,  1, -1,  1, -1,  1, -1, -1, -1,  1,\n",
              "       -1,  1, -1, -1,  1, -1, -1, -1,  1,  1,  1,  1, -1, -1,  1,  1, -1,\n",
              "       -1,  1, -1, -1, -1, -1,  1,  1,  1,  1,  1, -1,  1,  1, -1,  1, -1,\n",
              "        1,  1,  1,  1, -1, -1, -1,  1,  1, -1, -1, -1, -1,  1, -1,  1, -1,\n",
              "        1, -1,  1,  1, -1,  1,  1,  1,  1,  1, -1, -1,  1, -1, -1,  1, -1,\n",
              "       -1,  1,  1,  1, -1, -1,  1, -1, -1, -1,  1, -1, -1, -1, -1, -1, -1,\n",
              "        1,  1,  1, -1, -1,  1,  1,  1, -1,  1,  1,  1,  1,  1,  1, -1,  1,\n",
              "       -1, -1,  1,  1, -1, -1, -1,  1,  1,  1, -1,  1, -1, -1, -1, -1,  1,\n",
              "       -1, -1, -1,  1,  1, -1,  1,  1, -1, -1,  1,  1,  1,  1, -1, -1,  1,\n",
              "        1,  1,  1, -1,  1, -1,  1, -1, -1,  1,  1,  1, -1])"
            ]
          },
          "metadata": {},
          "execution_count": 39
        }
      ]
    },
    {
      "cell_type": "code",
      "source": [
        "person5 = np.average(person5,axis=1)"
      ],
      "metadata": {
        "id": "LLS6CM0mYNpB"
      },
      "execution_count": null,
      "outputs": []
    },
    {
      "cell_type": "code",
      "source": [
        "person5_coeff=discrete_fourier_transform(person5)\n",
        "person5_coeff= person5_coeff.real"
      ],
      "metadata": {
        "id": "fwfH9ggaYUik"
      },
      "execution_count": null,
      "outputs": []
    },
    {
      "cell_type": "code",
      "source": [
        "person5_mag= calculate_magnitude(person5_coeff)\n",
        "person5_mag.shape"
      ],
      "metadata": {
        "colab": {
          "base_uri": "https://localhost:8080/"
        },
        "id": "ozdgKtJ7YbUL",
        "outputId": "947b3c84-4832-479b-ba20-5d79c7560fa7"
      },
      "execution_count": null,
      "outputs": [
        {
          "output_type": "execute_result",
          "data": {
            "text/plain": [
              "(200, 200)"
            ]
          },
          "metadata": {},
          "execution_count": 42
        }
      ]
    },
    {
      "cell_type": "code",
      "source": [
        "clf5 = svm.SVC(kernel='linear', C=1, random_state=42)\n",
        "scores5a = cross_val_score(clf5, person5_mag, target_val5, cv=5)\n",
        "scores5a"
      ],
      "metadata": {
        "colab": {
          "base_uri": "https://localhost:8080/"
        },
        "id": "j_glLSSgYblo",
        "outputId": "45307cf8-a278-4006-a2d5-a91e8e40306a"
      },
      "execution_count": null,
      "outputs": [
        {
          "output_type": "execute_result",
          "data": {
            "text/plain": [
              "array([0.425, 0.45 , 0.45 , 0.475, 0.425])"
            ]
          },
          "metadata": {},
          "execution_count": 43
        }
      ]
    },
    {
      "cell_type": "code",
      "source": [
        "classifier5 = KNeighborsClassifier(n_neighbors=3)\n",
        "scores5b = cross_val_score(classifier5, person5_mag, target_val5, cv=5)\n",
        "scores5b"
      ],
      "metadata": {
        "colab": {
          "base_uri": "https://localhost:8080/"
        },
        "id": "sLqPwBPrZHIh",
        "outputId": "cf303bb7-8261-427f-9ae7-8068db5a8b36"
      },
      "execution_count": null,
      "outputs": [
        {
          "output_type": "execute_result",
          "data": {
            "text/plain": [
              "array([0.5  , 0.475, 0.55 , 0.45 , 0.45 ])"
            ]
          },
          "metadata": {},
          "execution_count": 44
        }
      ]
    },
    {
      "cell_type": "markdown",
      "source": [
        "# **person 6 data and model**"
      ],
      "metadata": {
        "id": "3Jcpw2eGXaPj"
      }
    },
    {
      "cell_type": "code",
      "source": [
        "person6_data = scipy.io.loadmat('BCICIV_calib_ds1f.mat')"
      ],
      "metadata": {
        "id": "jGSh_gOgXdg9"
      },
      "execution_count": null,
      "outputs": []
    },
    {
      "cell_type": "code",
      "source": [
        "person6 , target_val6 = preprocess_Signal(person6_data)"
      ],
      "metadata": {
        "id": "0Tgauy3NZU5p"
      },
      "execution_count": null,
      "outputs": []
    },
    {
      "cell_type": "code",
      "source": [
        "target_val6 = np.asarray(target_val6, dtype = 'int')\n",
        "np.random.shuffle(target_val6)\n",
        "target_val6"
      ],
      "metadata": {
        "colab": {
          "base_uri": "https://localhost:8080/"
        },
        "id": "J5awC25yZovZ",
        "outputId": "d4414ab4-7666-4728-fd95-aca63c23d6a1"
      },
      "execution_count": null,
      "outputs": [
        {
          "output_type": "execute_result",
          "data": {
            "text/plain": [
              "array([ 1,  1, -1, -1,  1, -1,  1,  1, -1, -1,  1,  1,  1,  1, -1, -1, -1,\n",
              "        1, -1,  1,  1,  1,  1, -1, -1, -1, -1,  1, -1,  1,  1,  1,  1, -1,\n",
              "       -1,  1, -1, -1, -1,  1,  1,  1, -1, -1, -1,  1, -1,  1,  1,  1, -1,\n",
              "        1,  1,  1, -1, -1, -1,  1,  1,  1,  1,  1,  1, -1,  1, -1,  1, -1,\n",
              "        1, -1,  1,  1, -1, -1, -1,  1, -1, -1, -1,  1,  1,  1,  1,  1, -1,\n",
              "       -1, -1, -1,  1,  1,  1, -1,  1,  1, -1,  1,  1, -1, -1, -1, -1,  1,\n",
              "       -1, -1,  1, -1, -1, -1, -1,  1,  1,  1, -1, -1, -1, -1, -1, -1,  1,\n",
              "       -1, -1, -1,  1, -1, -1,  1,  1, -1, -1, -1, -1, -1, -1, -1,  1, -1,\n",
              "        1, -1,  1, -1, -1,  1,  1, -1, -1,  1,  1, -1,  1, -1, -1, -1, -1,\n",
              "       -1,  1,  1,  1,  1, -1, -1, -1, -1, -1,  1,  1,  1, -1,  1,  1, -1,\n",
              "       -1,  1,  1, -1, -1,  1,  1,  1,  1, -1,  1, -1,  1,  1,  1,  1, -1,\n",
              "       -1,  1, -1,  1,  1,  1,  1,  1,  1,  1,  1, -1, -1])"
            ]
          },
          "metadata": {},
          "execution_count": 47
        }
      ]
    },
    {
      "cell_type": "code",
      "source": [
        "person6 = np.average(person6,axis=1)"
      ],
      "metadata": {
        "id": "o4x3W-ocZyJS"
      },
      "execution_count": null,
      "outputs": []
    },
    {
      "cell_type": "code",
      "source": [
        "person6_coeff=discrete_fourier_transform(person6)\n",
        "person6_coeff= person6_coeff.real"
      ],
      "metadata": {
        "id": "jsda-eu_ZyML"
      },
      "execution_count": null,
      "outputs": []
    },
    {
      "cell_type": "code",
      "source": [
        "#nyquist = 50\n",
        "person6_coeff_filtered = mne.filter.filter_data(data = person6_coeff, sfreq=100, l_freq=0.1, h_freq=26, picks = None)"
      ],
      "metadata": {
        "colab": {
          "base_uri": "https://localhost:8080/"
        },
        "id": "7o5osHYdaQgs",
        "outputId": "d884eb0b-fce9-44ac-ccd1-d2b5674dcbe8"
      },
      "execution_count": null,
      "outputs": [
        {
          "output_type": "stream",
          "name": "stdout",
          "text": [
            "Setting up band-pass filter from 0.1 - 26 Hz\n",
            "\n",
            "FIR filter parameters\n",
            "---------------------\n",
            "Designing a one-pass, zero-phase, non-causal bandpass filter:\n",
            "- Windowed time-domain design (firwin) method\n",
            "- Hamming window with 0.0194 passband ripple and 53 dB stopband attenuation\n",
            "- Lower passband edge: 0.10\n",
            "- Lower transition bandwidth: 0.10 Hz (-6 dB cutoff frequency: 0.05 Hz)\n",
            "- Upper passband edge: 26.00 Hz\n",
            "- Upper transition bandwidth: 6.50 Hz (-6 dB cutoff frequency: 29.25 Hz)\n",
            "- Filter length: 3301 samples (33.010 sec)\n",
            "\n"
          ]
        },
        {
          "output_type": "stream",
          "name": "stderr",
          "text": [
            "<ipython-input-50-c4f16354c568>:2: RuntimeWarning: filter_length (3301) is longer than the signal (200), distortion is likely. Reduce filter length or filter a longer signal.\n",
            "  person6_coeff_filtered = mne.filter.filter_data(data = person6_coeff, sfreq=100, l_freq=0.1, h_freq=26, picks = None)\n",
            "[Parallel(n_jobs=1)]: Using backend SequentialBackend with 1 concurrent workers.\n",
            "[Parallel(n_jobs=1)]: Done   1 out of   1 | elapsed:    0.0s remaining:    0.0s\n",
            "[Parallel(n_jobs=1)]: Done   2 out of   2 | elapsed:    0.0s remaining:    0.0s\n",
            "[Parallel(n_jobs=1)]: Done   3 out of   3 | elapsed:    0.0s remaining:    0.0s\n",
            "[Parallel(n_jobs=1)]: Done   4 out of   4 | elapsed:    0.0s remaining:    0.0s\n",
            "[Parallel(n_jobs=1)]: Done 200 out of 200 | elapsed:    0.1s finished\n"
          ]
        }
      ]
    },
    {
      "cell_type": "code",
      "source": [
        "clf6 = svm.SVC(kernel='linear', C=1, random_state=42)\n",
        "scores6a = cross_val_score(clf6, person6_coeff_filtered, target_val6, cv=5)\n",
        "scores6a\n"
      ],
      "metadata": {
        "colab": {
          "base_uri": "https://localhost:8080/"
        },
        "id": "_25qrJ4dawQf",
        "outputId": "919c8b2b-e0bc-45f7-f46b-08a4e453c725"
      },
      "execution_count": null,
      "outputs": [
        {
          "output_type": "execute_result",
          "data": {
            "text/plain": [
              "array([0.425, 0.5  , 0.525, 0.5  , 0.375])"
            ]
          },
          "metadata": {},
          "execution_count": 51
        }
      ]
    },
    {
      "cell_type": "code",
      "source": [
        "classifier6 = KNeighborsClassifier(n_neighbors=3)\n",
        "scores6b = cross_val_score(classifier6, person6_coeff_filtered, target_val6, cv=5)\n",
        "scores6b\n"
      ],
      "metadata": {
        "colab": {
          "base_uri": "https://localhost:8080/"
        },
        "id": "1_2LUEt5awTX",
        "outputId": "fefc01ed-3aae-45af-e876-1bcf5d714c4a"
      },
      "execution_count": null,
      "outputs": [
        {
          "output_type": "execute_result",
          "data": {
            "text/plain": [
              "array([0.475, 0.525, 0.55 , 0.4  , 0.4  ])"
            ]
          },
          "metadata": {},
          "execution_count": 52
        }
      ]
    },
    {
      "cell_type": "markdown",
      "source": [
        "# **Person 7 data and model**"
      ],
      "metadata": {
        "id": "2u32nOgOZVdG"
      }
    },
    {
      "cell_type": "code",
      "source": [
        "person7_data = scipy.io.loadmat('BCICIV_calib_ds1g.mat')"
      ],
      "metadata": {
        "id": "W7QlJrcIZaTU"
      },
      "execution_count": null,
      "outputs": []
    },
    {
      "cell_type": "code",
      "source": [
        "person7 , target_val7 = preprocess_Signal(person7_data)"
      ],
      "metadata": {
        "id": "dbZFOUZiavZB"
      },
      "execution_count": null,
      "outputs": []
    },
    {
      "cell_type": "code",
      "source": [
        "target_val7 = np.asarray(target_val7, dtype = 'int')\n",
        "np.random.shuffle(target_val7)\n",
        "target_val7"
      ],
      "metadata": {
        "colab": {
          "base_uri": "https://localhost:8080/"
        },
        "id": "pa7fFMoWiXs_",
        "outputId": "629267ce-4cab-48de-c5eb-7279e298c879"
      },
      "execution_count": null,
      "outputs": [
        {
          "output_type": "execute_result",
          "data": {
            "text/plain": [
              "array([ 1, -1,  1, -1,  1,  1,  1,  1,  1,  1, -1, -1, -1,  1,  1,  1,  1,\n",
              "       -1, -1, -1, -1,  1,  1,  1,  1, -1, -1, -1,  1, -1, -1, -1,  1,  1,\n",
              "       -1,  1, -1, -1, -1,  1, -1, -1,  1,  1,  1, -1, -1, -1, -1, -1,  1,\n",
              "       -1,  1,  1, -1,  1, -1, -1,  1, -1,  1, -1,  1,  1,  1,  1, -1,  1,\n",
              "        1,  1, -1,  1,  1, -1,  1,  1,  1, -1, -1,  1, -1, -1, -1, -1,  1,\n",
              "        1, -1, -1, -1, -1,  1,  1,  1, -1, -1,  1,  1,  1, -1, -1, -1, -1,\n",
              "       -1, -1,  1,  1,  1,  1, -1,  1, -1,  1,  1,  1,  1, -1,  1, -1, -1,\n",
              "       -1,  1,  1, -1, -1,  1,  1, -1, -1,  1, -1, -1, -1,  1,  1, -1, -1,\n",
              "       -1,  1, -1,  1,  1, -1, -1, -1, -1,  1, -1,  1,  1, -1,  1, -1, -1,\n",
              "       -1, -1, -1,  1, -1,  1,  1,  1,  1,  1, -1,  1, -1,  1, -1,  1,  1,\n",
              "        1,  1, -1,  1, -1, -1, -1, -1, -1,  1, -1, -1, -1, -1, -1, -1, -1,\n",
              "        1,  1,  1, -1,  1,  1,  1,  1,  1, -1,  1,  1,  1])"
            ]
          },
          "metadata": {},
          "execution_count": 55
        }
      ]
    },
    {
      "cell_type": "code",
      "source": [
        "person7 = np.average(person7,axis=1)"
      ],
      "metadata": {
        "id": "TffqXzzNjAnv"
      },
      "execution_count": null,
      "outputs": []
    },
    {
      "cell_type": "code",
      "source": [
        "person7_coeff=discrete_fourier_transform(person7)\n",
        "person7_coeff= person7_coeff.real"
      ],
      "metadata": {
        "id": "TLR1B_lVjAkw"
      },
      "execution_count": null,
      "outputs": []
    },
    {
      "cell_type": "code",
      "source": [
        "person7_coeff_filtered = mne.filter.filter_data(data = person7_coeff, sfreq=100, l_freq=8, h_freq=40, picks = None)"
      ],
      "metadata": {
        "colab": {
          "base_uri": "https://localhost:8080/"
        },
        "id": "fqGyFAvdjAZU",
        "outputId": "bd7f148e-bb55-4dff-c9af-ebaaf76c1caf"
      },
      "execution_count": null,
      "outputs": [
        {
          "output_type": "stream",
          "name": "stdout",
          "text": [
            "Setting up band-pass filter from 8 - 40 Hz\n",
            "\n",
            "FIR filter parameters\n",
            "---------------------\n",
            "Designing a one-pass, zero-phase, non-causal bandpass filter:\n",
            "- Windowed time-domain design (firwin) method\n",
            "- Hamming window with 0.0194 passband ripple and 53 dB stopband attenuation\n",
            "- Lower passband edge: 8.00\n",
            "- Lower transition bandwidth: 2.00 Hz (-6 dB cutoff frequency: 7.00 Hz)\n",
            "- Upper passband edge: 40.00 Hz\n",
            "- Upper transition bandwidth: 10.00 Hz (-6 dB cutoff frequency: 45.00 Hz)\n",
            "- Filter length: 165 samples (1.650 sec)\n",
            "\n"
          ]
        },
        {
          "output_type": "stream",
          "name": "stderr",
          "text": [
            "[Parallel(n_jobs=1)]: Using backend SequentialBackend with 1 concurrent workers.\n",
            "[Parallel(n_jobs=1)]: Done   1 out of   1 | elapsed:    0.0s remaining:    0.0s\n",
            "[Parallel(n_jobs=1)]: Done   2 out of   2 | elapsed:    0.0s remaining:    0.0s\n",
            "[Parallel(n_jobs=1)]: Done   3 out of   3 | elapsed:    0.0s remaining:    0.0s\n",
            "[Parallel(n_jobs=1)]: Done   4 out of   4 | elapsed:    0.0s remaining:    0.0s\n",
            "[Parallel(n_jobs=1)]: Done 200 out of 200 | elapsed:    0.1s finished\n"
          ]
        }
      ]
    },
    {
      "cell_type": "code",
      "source": [
        "clf7 = svm.SVC(kernel='linear', C=1, random_state=42)\n",
        "scores7a = cross_val_score(clf7, person7_coeff_filtered, target_val7, cv=5)\n",
        "scores7a"
      ],
      "metadata": {
        "colab": {
          "base_uri": "https://localhost:8080/"
        },
        "id": "c5xGqZ16n1bw",
        "outputId": "37d4c4f1-852e-4da1-fa23-a7cfa59c9a55"
      },
      "execution_count": null,
      "outputs": [
        {
          "output_type": "execute_result",
          "data": {
            "text/plain": [
              "array([0.45 , 0.725, 0.65 , 0.725, 0.45 ])"
            ]
          },
          "metadata": {},
          "execution_count": 59
        }
      ]
    },
    {
      "cell_type": "code",
      "source": [
        "classifier6 = KNeighborsClassifier(n_neighbors=3)\n",
        "scores7b = cross_val_score(classifier6, person6_coeff_filtered, target_val7, cv=5)\n",
        "scores7b"
      ],
      "metadata": {
        "colab": {
          "base_uri": "https://localhost:8080/"
        },
        "id": "U0LcVWOvoB7t",
        "outputId": "5716988b-d704-4fd0-ac21-81234cf801d6"
      },
      "execution_count": null,
      "outputs": [
        {
          "output_type": "execute_result",
          "data": {
            "text/plain": [
              "array([0.325, 0.675, 0.45 , 0.55 , 0.45 ])"
            ]
          },
          "metadata": {},
          "execution_count": 60
        }
      ]
    },
    {
      "cell_type": "markdown",
      "source": [
        "# **Conclusion and notes**"
      ],
      "metadata": {
        "id": "qMR27c7IpoCL"
      }
    },
    {
      "cell_type": "markdown",
      "source": [
        "Models on persons from 1 to 4 use the sama approach as we calculate fourier transform for the whole signal , get the coeffeients , get the average on channels , then we train the model \n",
        "Model on person 5 calculates the magnitude using fourier coeffients , then we train the model on the magnitude and target\n",
        "Model 6 and 7 we used bandpass filtering on the FC after calculating them on different frequency ranges using sampling freq = 100 HZ"
      ],
      "metadata": {
        "id": "y-MYM4zRyhKV"
      }
    },
    {
      "cell_type": "code",
      "source": [
        "# SVM results \n",
        "S1 = np.mean(scoresa)\n",
        "S2 = np.mean(scores2a)\n",
        "S3 = np.mean(scores3a)\n",
        "S4 = np.mean(scores4a)\n",
        "S5 = np.mean(scores5a)\n",
        "S6 = np.mean(scores6a)\n",
        "S7 = np.mean(scores7a)"
      ],
      "metadata": {
        "id": "8tXW8HeGpstA"
      },
      "execution_count": null,
      "outputs": []
    },
    {
      "cell_type": "code",
      "source": [
        "print(\"person 1 accuracy :\" , S1)\n",
        "print(\"person 2 accuracy :\" , S2)\n",
        "print(\"person 3 accuracy :\" , S3)\n",
        "print(\"person 4 accuracy :\" , S4)\n",
        "print(\"person 5 accuracy :\" , S5)\n",
        "print(\"person 6 accuracy :\" , S6)\n",
        "print(\"person 7 accuracy :\" , S7)\n"
      ],
      "metadata": {
        "colab": {
          "base_uri": "https://localhost:8080/"
        },
        "id": "mkySwTWVqjDZ",
        "outputId": "8993689e-9844-4e46-d032-6bd1a85d43fd"
      },
      "execution_count": null,
      "outputs": [
        {
          "output_type": "stream",
          "name": "stdout",
          "text": [
            "person 1 accuracy : 0.55\n",
            "person 2 accuracy : 0.52\n",
            "person 3 accuracy : 0.43000000000000005\n",
            "person 4 accuracy : 0.54\n",
            "person 5 accuracy : 0.44499999999999995\n",
            "person 6 accuracy : 0.465\n",
            "person 7 accuracy : 0.6000000000000001\n"
          ]
        }
      ]
    },
    {
      "cell_type": "code",
      "source": [
        "# KNN results\n",
        "S11 = np.mean(scoresb)\n",
        "S22 = np.mean(scores2b)\n",
        "S33 = np.mean(scores3b)\n",
        "S44 = np.mean(scores4b)\n",
        "S55 = np.mean(scores5b)\n",
        "S66 = np.mean(scores6b)\n",
        "S77 = np.mean(scores7b)"
      ],
      "metadata": {
        "id": "RHhClRRzwgQx"
      },
      "execution_count": null,
      "outputs": []
    },
    {
      "cell_type": "code",
      "source": [
        "print(\"person 1 accuracy :\" , S11)\n",
        "print(\"person 2 accuracy :\" , S22)\n",
        "print(\"person 3 accuracy :\" , S33)\n",
        "print(\"person 4 accuracy :\" , S44)\n",
        "print(\"person 5 accuracy :\" , S55)\n",
        "print(\"person 6 accuracy :\" , S66)\n",
        "print(\"person 7 accuracy :\" , S77)"
      ],
      "metadata": {
        "colab": {
          "base_uri": "https://localhost:8080/"
        },
        "id": "ox0x3gcJwgTp",
        "outputId": "bf35443b-7f57-4851-fa87-485742f610fa"
      },
      "execution_count": null,
      "outputs": [
        {
          "output_type": "stream",
          "name": "stdout",
          "text": [
            "person 1 accuracy : 0.475\n",
            "person 2 accuracy : 0.5349999999999999\n",
            "person 3 accuracy : 0.42000000000000004\n",
            "person 4 accuracy : 0.525\n",
            "person 5 accuracy : 0.485\n",
            "person 6 accuracy : 0.47000000000000003\n",
            "person 7 accuracy : 0.49000000000000005\n"
          ]
        }
      ]
    },
    {
      "cell_type": "markdown",
      "source": [
        "# **Failed tests**"
      ],
      "metadata": {
        "id": "uHZoTAf8yAjL"
      }
    },
    {
      "cell_type": "code",
      "source": [
        "####################\n",
        "person888_coeff_filtered = mne.filter.filter_data(data = person7_coeff, sfreq=100, l_freq=8, h_freq=12, picks = None)"
      ],
      "metadata": {
        "colab": {
          "base_uri": "https://localhost:8080/"
        },
        "id": "P5UB8QBRoltD",
        "outputId": "f4de6b0a-f2a6-4e3d-b45b-487d3885a02f"
      },
      "execution_count": null,
      "outputs": [
        {
          "output_type": "stream",
          "name": "stdout",
          "text": [
            "Setting up band-pass filter from 8 - 12 Hz\n",
            "\n",
            "FIR filter parameters\n",
            "---------------------\n",
            "Designing a one-pass, zero-phase, non-causal bandpass filter:\n",
            "- Windowed time-domain design (firwin) method\n",
            "- Hamming window with 0.0194 passband ripple and 53 dB stopband attenuation\n",
            "- Lower passband edge: 8.00\n",
            "- Lower transition bandwidth: 2.00 Hz (-6 dB cutoff frequency: 7.00 Hz)\n",
            "- Upper passband edge: 12.00 Hz\n",
            "- Upper transition bandwidth: 3.00 Hz (-6 dB cutoff frequency: 13.50 Hz)\n",
            "- Filter length: 165 samples (1.650 sec)\n",
            "\n"
          ]
        },
        {
          "output_type": "stream",
          "name": "stderr",
          "text": [
            "[Parallel(n_jobs=1)]: Using backend SequentialBackend with 1 concurrent workers.\n",
            "[Parallel(n_jobs=1)]: Done   1 out of   1 | elapsed:    0.0s remaining:    0.0s\n",
            "[Parallel(n_jobs=1)]: Done   2 out of   2 | elapsed:    0.0s remaining:    0.0s\n",
            "[Parallel(n_jobs=1)]: Done   3 out of   3 | elapsed:    0.0s remaining:    0.0s\n",
            "[Parallel(n_jobs=1)]: Done   4 out of   4 | elapsed:    0.0s remaining:    0.0s\n",
            "[Parallel(n_jobs=1)]: Done 200 out of 200 | elapsed:    0.1s finished\n"
          ]
        }
      ]
    },
    {
      "cell_type": "code",
      "source": [
        "clf8 = svm.SVC(kernel='linear', C=1, random_state=42)\n",
        "scores8a = cross_val_score(clf8, person888_coeff_filtered, target_val7, cv=5)\n",
        "scores8a"
      ],
      "metadata": {
        "id": "5cfte9BBovMQ"
      },
      "execution_count": null,
      "outputs": []
    }
  ]
}